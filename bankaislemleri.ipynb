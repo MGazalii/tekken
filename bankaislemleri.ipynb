{
 "cells": [
  {
   "cell_type": "code",
   "execution_count": 1,
   "id": "243d1c8d",
   "metadata": {},
   "outputs": [],
   "source": [
    "users = {\"8989\": {\"name\": \"Python\", \"password\": \"abc\", \"balance\":20000}, \n",
    "         \"9898\": {\"name\": \"Gazali\", \"password\": \"abcd\", \"balance\":3000}}"
   ]
  },
  {
   "cell_type": "code",
   "execution_count": null,
   "id": "693356f6",
   "metadata": {
    "scrolled": false
   },
   "outputs": [
    {
     "name": "stdout",
     "output_type": "stream",
     "text": [
      "Python Banka Hoş Geldiniz\n"
     ]
    }
   ],
   "source": [
    "print(\"Python Banka Hoş Geldiniz\")\n",
    "cusNo = input(\"Lütfen müşteri numaranızı giriniz \")\n",
    "cusPw = input(\"Lütfen parolanızı giriniz \")\n",
    "\n",
    "if cusNo not in users:\n",
    "    print(\"Kullanıcı bulunamadı\")\n",
    "        \n",
    "else:\n",
    "    if cusPw == users[cusNo][\"password\"]:\n",
    "        print(\"Hoşgeldiniz\")\n",
    "        \n",
    "        opt = input(\"Lütfen işlem seçiniz 1- Para çek 2- Gönder\")\n",
    "        if int(opt) == 1:\n",
    "            amount = input(\"Miktar giriniz \")\n",
    "            if users[cusNo][\"balance\"] > int(amount):\n",
    "                print(\"TL'niz hazır \")\n",
    "                users[cusNo][\"balance\"] -= int(amount)\n",
    "            else:\n",
    "                print(\"Bakiyeniz yetersiz \")\n",
    "        if int(opt) == 2:\n",
    "            kime = input(\"Kime göndermek istersiniz\")\n",
    "            amount = input(\"Kaç TL göndermek istersiniz\")\n",
    "            if users[cusNo][\"balance\"] > int(amount):\n",
    "                print(\"Paranız gönderiliyor...\")\n",
    "                users[cusNo][\"balance\"] -= int(amount)\n",
    "                users[kime][\"balance\"] += int(amount)\n",
    "            else:\n",
    "                print(\"Bakiyeniz yetersiz \")\n",
    "    else:\n",
    "        print(\"şifreniz yanlış, lütfen tekrar deneyin\")"
   ]
  },
  {
   "cell_type": "code",
   "execution_count": null,
   "id": "fd4837aa",
   "metadata": {},
   "outputs": [],
   "source": []
  }
 ],
 "metadata": {
  "kernelspec": {
   "display_name": "Python 3 (ipykernel)",
   "language": "python",
   "name": "python3"
  },
  "language_info": {
   "codemirror_mode": {
    "name": "ipython",
    "version": 3
   },
   "file_extension": ".py",
   "mimetype": "text/x-python",
   "name": "python",
   "nbconvert_exporter": "python",
   "pygments_lexer": "ipython3",
   "version": "3.8.10"
  }
 },
 "nbformat": 4,
 "nbformat_minor": 5
}
